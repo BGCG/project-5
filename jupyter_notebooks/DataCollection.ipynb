{
 "cells": [
  {
   "cell_type": "markdown",
   "metadata": {
    "id": "0aStgWSO0E0E"
   },
   "source": [
    "# **Data Collection**"
   ]
  },
  {
   "cell_type": "markdown",
   "metadata": {
    "id": "1eLEkw5O0ECa"
   },
   "source": [
    "## Objectives\n",
    "\n",
    "* Fetch data from Kaggle and download raw data.\n",
    "* Check if any non-image files are downloaded and remove them.\n",
    "* Split the dataset into test, train and validation sets.\n",
    "\n",
    "## Inputs\n",
    "\n",
    "* Kaggle JSON authentication token.\n",
    "* Cherry leaves dataset from Kaggle.\n",
    "* Generate inputs/cherry-leaves\n",
    "\n",
    "## Outputs\n",
    "\n",
    "The following folders will be generated:\n",
    "* inputs/cherry_leaves_dataset/cherry-leaves/test/healthy\n",
    "* inputs/cherry_leaves_dataset/cherry-leaves/test/powdery_mildew\n",
    "* inputs/cherry_leaves_dataset/cherry-leaves/train/healthy\n",
    "* inputs/cherry_leaves_dataset/cherry-leaves/train/powdery_mildew\n",
    "* inputs/cherry_leaves_dataset/cherry-leaves/validation/healthy\n",
    "* inputs/cherry_leaves_dataset/cherry-leaves/validation/powdery_mildew\n"
   ]
  },
  {
   "cell_type": "markdown",
   "metadata": {
    "id": "9uWZXH9LwoQg"
   },
   "source": [
    "---"
   ]
  },
  {
   "cell_type": "markdown",
   "metadata": {
    "id": "cqP-UeN-z3i2"
   },
   "source": [
    "# Change working directory"
   ]
  },
  {
   "cell_type": "markdown",
   "metadata": {},
   "source": [
    "* We are assuming you will store the notebooks in a subfolder, therefore when running the notebook in the editor, you will need to change the working directory"
   ]
  },
  {
   "cell_type": "markdown",
   "metadata": {
    "id": "aOGIGS-uz3i2"
   },
   "source": [
    "We need to change the working directory from its current folder to its parent folder\n",
    "* We access the current directory with os.getcwd()"
   ]
  },
  {
   "cell_type": "code",
   "execution_count": 1,
   "metadata": {
    "id": "wZfF_j-Bz3i4",
    "outputId": "66943449-1436-4c3d-85c7-b85f9f78349b"
   },
   "outputs": [
    {
     "data": {
      "text/plain": [
       "'/workspace/project-5/jupyter_notebooks'"
      ]
     },
     "execution_count": 1,
     "metadata": {},
     "output_type": "execute_result"
    }
   ],
   "source": [
    "import os\n",
    "current_dir = os.getcwd()\n",
    "current_dir"
   ]
  },
  {
   "cell_type": "markdown",
   "metadata": {
    "id": "9MWW8E7lz3i7"
   },
   "source": [
    "We want to make the parent of the current directory the new current directory\n",
    "* os.path.dirname() gets the parent directory\n",
    "* os.chir() defines the new current directory"
   ]
  },
  {
   "cell_type": "code",
   "execution_count": 2,
   "metadata": {
    "id": "TwHsQRWjz3i9",
    "outputId": "86849db3-cd2f-4cc5-ebb8-2d0caafa1a2c"
   },
   "outputs": [
    {
     "name": "stdout",
     "output_type": "stream",
     "text": [
      "You set a new current directory\n"
     ]
    }
   ],
   "source": [
    "os.chdir(os.path.dirname(current_dir))\n",
    "print(\"You set a new current directory\")"
   ]
  },
  {
   "cell_type": "markdown",
   "metadata": {
    "id": "M_xPk_Ijz3i-"
   },
   "source": [
    "Confirm the new current directory"
   ]
  },
  {
   "cell_type": "code",
   "execution_count": 3,
   "metadata": {
    "id": "vz3S-_kjz3jA",
    "outputId": "00b79ae4-75d0-4a96-d193-ac9ef9847ea2"
   },
   "outputs": [
    {
     "data": {
      "text/plain": [
       "'/workspace/project-5'"
      ]
     },
     "execution_count": 3,
     "metadata": {},
     "output_type": "execute_result"
    }
   ],
   "source": [
    "current_dir = os.getcwd()\n",
    "current_dir"
   ]
  },
  {
   "cell_type": "markdown",
   "metadata": {
    "id": "-mavJ8DibrcQ"
   },
   "source": [
    "# Install Kaggle"
   ]
  },
  {
   "cell_type": "code",
   "execution_count": 4,
   "metadata": {},
   "outputs": [
    {
     "name": "stdout",
     "output_type": "stream",
     "text": [
      "Requirement already satisfied: kaggle in /home/gitpod/.pyenv/versions/3.11.1/lib/python3.11/site-packages (1.5.16)\n",
      "Requirement already satisfied: six>=1.10 in /home/gitpod/.pyenv/versions/3.11.1/lib/python3.11/site-packages (from kaggle) (1.16.0)\n",
      "Requirement already satisfied: certifi in /home/gitpod/.pyenv/versions/3.11.1/lib/python3.11/site-packages (from kaggle) (2022.12.7)\n",
      "Requirement already satisfied: python-dateutil in /home/gitpod/.pyenv/versions/3.11.1/lib/python3.11/site-packages (from kaggle) (2.8.2)\n",
      "Requirement already satisfied: requests in /home/gitpod/.pyenv/versions/3.11.1/lib/python3.11/site-packages (from kaggle) (2.28.2)\n",
      "Requirement already satisfied: tqdm in /home/gitpod/.pyenv/versions/3.11.1/lib/python3.11/site-packages (from kaggle) (4.65.0)\n",
      "Requirement already satisfied: python-slugify in /home/gitpod/.pyenv/versions/3.11.1/lib/python3.11/site-packages (from kaggle) (8.0.1)\n",
      "Requirement already satisfied: urllib3 in /home/gitpod/.pyenv/versions/3.11.1/lib/python3.11/site-packages (from kaggle) (1.26.15)\n",
      "Requirement already satisfied: bleach in /home/gitpod/.pyenv/versions/3.11.1/lib/python3.11/site-packages (from kaggle) (6.0.0)\n",
      "Requirement already satisfied: webencodings in /home/gitpod/.pyenv/versions/3.11.1/lib/python3.11/site-packages (from bleach->kaggle) (0.5.1)\n",
      "Requirement already satisfied: text-unidecode>=1.3 in /home/gitpod/.pyenv/versions/3.11.1/lib/python3.11/site-packages (from python-slugify->kaggle) (1.3)\n",
      "Requirement already satisfied: charset-normalizer<4,>=2 in /home/gitpod/.pyenv/versions/3.11.1/lib/python3.11/site-packages (from requests->kaggle) (3.1.0)\n",
      "Requirement already satisfied: idna<4,>=2.5 in /home/gitpod/.pyenv/versions/3.11.1/lib/python3.11/site-packages (from requests->kaggle) (3.4)\n",
      "\n",
      "\u001b[1m[\u001b[0m\u001b[34;49mnotice\u001b[0m\u001b[1;39;49m]\u001b[0m\u001b[39;49m A new release of pip is available: \u001b[0m\u001b[31;49m23.0.1\u001b[0m\u001b[39;49m -> \u001b[0m\u001b[32;49m23.2.1\u001b[0m\n",
      "\u001b[1m[\u001b[0m\u001b[34;49mnotice\u001b[0m\u001b[1;39;49m]\u001b[0m\u001b[39;49m To update, run: \u001b[0m\u001b[32;49mpip install --upgrade pip\u001b[0m\n",
      "Note: you may need to restart the kernel to use updated packages.\n"
     ]
    }
   ],
   "source": [
    "%pip install kaggle"
   ]
  },
  {
   "cell_type": "markdown",
   "metadata": {},
   "source": [
    "Set kaggle configuration to current working directory"
   ]
  },
  {
   "cell_type": "markdown",
   "metadata": {
    "id": "ZY3l0-AxO93d"
   },
   "source": [
    "---"
   ]
  },
  {
   "cell_type": "code",
   "execution_count": 5,
   "metadata": {},
   "outputs": [],
   "source": [
    "os.environ['KAGGLE_CONFIG_DIR'] = os.getcwd()\n",
    "! chmod 600 kaggle.json"
   ]
  },
  {
   "cell_type": "markdown",
   "metadata": {},
   "source": [
    "Get data from Kaggle"
   ]
  },
  {
   "cell_type": "code",
   "execution_count": 6,
   "metadata": {},
   "outputs": [
    {
     "name": "stdout",
     "output_type": "stream",
     "text": [
      "Downloading cherry-leaves.zip to inputs/cherry_leaves_dataset\n",
      " 91%|██████████████████████████████████▌   | 50.0M/55.0M [00:02<00:00, 36.9MB/s]\n",
      "100%|██████████████████████████████████████| 55.0M/55.0M [00:02<00:00, 25.3MB/s]\n"
     ]
    }
   ],
   "source": [
    "KaggleDatasetPath = \"codeinstitute/cherry-leaves\"\n",
    "DestinationFolder = \"inputs/cherry_leaves_dataset\"\n",
    "! kaggle datasets download -d {KaggleDatasetPath} -p {DestinationFolder}"
   ]
  },
  {
   "cell_type": "markdown",
   "metadata": {},
   "source": [
    "Unzip folder"
   ]
  },
  {
   "cell_type": "code",
   "execution_count": 7,
   "metadata": {},
   "outputs": [],
   "source": [
    "import zipfile\n",
    "with zipfile.ZipFile(DestinationFolder + '/cherry-leaves.zip', 'r') as zip_ref:\n",
    "    zip_ref.extractall(DestinationFolder)\n",
    "\n",
    "os.remove(DestinationFolder + '/cherry-leaves.zip')"
   ]
  },
  {
   "cell_type": "markdown",
   "metadata": {
    "id": "uFQo3ycuO-v6"
   },
   "source": [
    "# Data Cleaning"
   ]
  },
  {
   "cell_type": "markdown",
   "metadata": {},
   "source": [
    "Check if there are any non-image files and remove those that are not images"
   ]
  },
  {
   "cell_type": "code",
   "execution_count": 8,
   "metadata": {},
   "outputs": [],
   "source": [
    "def remove_non_image_files(my_data_dir):\n",
    "    image_extension = ('.png', '.jpg', '.jpeg')\n",
    "    folders = os.listdir(my_data_dir)\n",
    "    for folder in folders:\n",
    "        files = os.listdir(my_data_dir + '/' + folder)\n",
    "        i = []\n",
    "        j = []\n",
    "        for given_file in files:\n",
    "            if not given_file.lower().endswith(image_extension):\n",
    "                file_location = my_data_dir + '/' + folder + '/' + given_file\n",
    "                os.remove(file_location) # removes non-image file\n",
    "                i.append(1)\n",
    "            else:\n",
    "                j.append(1)\n",
    "                pass\n",
    "        print(f\"Folder: {folder} - has image file\", len(j))\n",
    "        print(f\"Folder: {folder} - has non-image file\", len(i))"
   ]
  },
  {
   "cell_type": "code",
   "execution_count": 9,
   "metadata": {},
   "outputs": [
    {
     "name": "stdout",
     "output_type": "stream",
     "text": [
      "Folder: healthy - has image file 2104\n",
      "Folder: healthy - has non-image file 0\n",
      "Folder: powdery_mildew - has image file 2104\n",
      "Folder: powdery_mildew - has non-image file 0\n"
     ]
    }
   ],
   "source": [
    "remove_non_image_files(my_data_dir='inputs/cherry_leaves_dataset/cherry-leaves')"
   ]
  },
  {
   "cell_type": "markdown",
   "metadata": {},
   "source": [
    "## Split data into train, validation and test sets"
   ]
  },
  {
   "cell_type": "code",
   "execution_count": 10,
   "metadata": {},
   "outputs": [],
   "source": [
    "import shutil\n",
    "import random\n",
    "\n",
    "def train_test_val_split(data_dir, train_set_ratio, val_set_ratio, test_set_ratio):\n",
    "\n",
    "    if sum([train_set_ratio, val_set_ratio, test_set_ratio]) != 1.0:\n",
    "        print(\"Sum of train_set_ratio, val_set_ratio and test_set_ratio should amount to 1.0\")\n",
    "        return\n",
    "        \n",
    "    # get labels/classes\n",
    "    labels = os.listdir(data_dir)\n",
    "    if 'test' in labels:\n",
    "        pass\n",
    "    else:\n",
    "        # create train, validation and test folder with class labels as subfolder names\n",
    "        for folder in ['train', 'validation', 'test']:\n",
    "            for label in labels:\n",
    "                os.makedirs(name=data_dir + '/' + folder + '/' + label)\n",
    "                \n",
    "        for label in labels:\n",
    "\n",
    "            files = os.listdir(data_dir + '/' + label)\n",
    "            random.shuffle(files)\n",
    "            \n",
    "            train_set_qty = int(len(files) * train_set_ratio)\n",
    "            val_set_qty = int(len(files) * val_set_ratio)\n",
    "            \n",
    "            count = 1\n",
    "            \n",
    "            for file_name in files:\n",
    "            \n",
    "                if count <= train_set_qty:\n",
    "                    # move given file to train set\n",
    "                    shutil.move(data_dir + '/' + label + '/' + file_name,\n",
    "                                data_dir + '/train/' + label + '/' + file_name)\n",
    "                \n",
    "                elif count <= (sum([train_set_qty, val_set_qty])):\n",
    "                    # move given file to validation set \n",
    "                    shutil.move(data_dir + '/' + label + '/' + file_name,\n",
    "                                data_dir + '/validation/' + label + '/' + file_name)\n",
    "                else:\n",
    "                    # move remaining files to test\n",
    "                    shutil.move(data_dir + '/' + label + '/' + file_name,\n",
    "                                data_dir + '/test/' + label + '/' + file_name)\n",
    "                \n",
    "                count += 1\n",
    "                \n",
    "            os.rmdir(data_dir + '/' + label)\n",
    "\n",
    "    "
   ]
  },
  {
   "cell_type": "code",
   "execution_count": 11,
   "metadata": {},
   "outputs": [],
   "source": [
    "train_test_val_split(data_dir=f\"inputs/cherry_leaves_dataset/cherry-leaves\", train_set_ratio=0.7,\n",
    "                    val_set_ratio=0.1, test_set_ratio=0.2)"
   ]
  },
  {
   "cell_type": "markdown",
   "metadata": {},
   "source": [
    "### Check number of files in each set"
   ]
  },
  {
   "cell_type": "code",
   "execution_count": 12,
   "metadata": {},
   "outputs": [
    {
     "name": "stdout",
     "output_type": "stream",
     "text": [
      "* train - healthy: 1472 images\n",
      "* test - healthy: 422 images\n",
      "* validation - healthy: 210 images\n",
      "* train - powdery_mildew: 1472 images\n",
      "* test - powdery_mildew: 422 images\n",
      "* validation - powdery_mildew: 210 images\n"
     ]
    }
   ],
   "source": [
    "file_count, data_split, group = [], [], []\n",
    "base_dir = \"inputs/cherry_leaves_dataset/cherry-leaves\" \n",
    "\n",
    "for label in ['healthy', 'powdery_mildew']:\n",
    "    for folder in ['train', 'test', 'validation']:\n",
    "        file_path = os.path.join(base_dir, folder, label)\n",
    "        files = os.listdir(file_path)\n",
    "        num_files = len(files)\n",
    "        file_count.append(num_files)\n",
    "        data_split.append(folder)\n",
    "        group.append(label)\n",
    "        print(f'* {folder} - {label}: {len(os.listdir(file_path))} images')\n",
    "        "
   ]
  }
 ],
 "metadata": {
  "accelerator": "GPU",
  "colab": {
   "name": "Data Practitioner Jupyter Notebook.ipynb",
   "provenance": [],
   "toc_visible": true
  },
  "interpreter": {
   "hash": "8b8334dab9339717f727a1deaf837b322d7a41c20d15cc86be99a8e69ceec8ce"
  },
  "kernelspec": {
   "display_name": "Python 3 (ipykernel)",
   "language": "python",
   "name": "python3"
  },
  "language_info": {
   "codemirror_mode": {
    "name": "ipython",
    "version": 3
   },
   "file_extension": ".py",
   "mimetype": "text/x-python",
   "name": "python",
   "nbconvert_exporter": "python",
   "pygments_lexer": "ipython3",
   "version": "3.11.1"
  }
 },
 "nbformat": 4,
 "nbformat_minor": 4
}
